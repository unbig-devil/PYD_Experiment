{
 "cells": [
  {
   "cell_type": "code",
   "execution_count": 1,
   "id": "3d3815ec-3d4a-4a44-b1c3-4b0f782f99f0",
   "metadata": {},
   "outputs": [
    {
     "name": "stdout",
     "output_type": "stream",
     "text": [
      "Hello world!\n",
      "____________________________________________________________________________________________________\n",
      "编程让世界更具创造力！\n"
     ]
    }
   ],
   "source": [
    "print(\"Hello world!\")\n",
    "print(\"_\"*100)\n",
    "print(\"编程让世界更具创造力！\")"
   ]
  },
  {
   "cell_type": "code",
   "execution_count": 2,
   "id": "fa236afb-8d58-4f8e-9d1b-dddade2a50a8",
   "metadata": {},
   "outputs": [
    {
     "name": "stdout",
     "output_type": "stream",
     "text": [
      "203\n"
     ]
    }
   ],
   "source": [
    "x=9\n",
    "func=21*x+14\n",
    "print(func)"
   ]
  },
  {
   "cell_type": "code",
   "execution_count": 30,
   "id": "2e286f64-5534-4a5a-9330-70aac707f6a1",
   "metadata": {},
   "outputs": [
    {
     "name": "stdout",
     "output_type": "stream",
     "text": [
      "monadic_equationmonadic_equation= 17.2\n",
      "monadic_equation=17.20\n",
      "monadic_equation=17.200\n"
     ]
    }
   ],
   "source": [
    "x=8.1\n",
    "monadic_equation=2*x+1\n",
    "print(\"monadic_equationmonadic_equation=\",monadic_equation)\n",
    "print(\"monadic_equation=%4.2f\"%monadic_equation)\n",
    "print(\"monadic_equation={:.3f}\".format(monadic_equation))"
   ]
  },
  {
   "cell_type": "code",
   "execution_count": 12,
   "id": "6cfc770f-5f21-45a7-9a0f-d383e6d3832e",
   "metadata": {},
   "outputs": [
    {
     "name": "stdout",
     "output_type": "stream",
     "text": [
      "The longitude of the Hai'kou coordinate is 110.1138, and the latitude is 20.0246.\n"
     ]
    }
   ],
   "source": [
    "city_name=\"Hai'kou\"\n",
    "coordinate_longitude=110.113839\n",
    "coordiante_latitude=20.024597\n",
    "print(\"The longitude of the Hai'kou coordinate is {lon:.4f}, and the latitude is {lat:.4f}.\".format(lon=coordinate_longitude,lat=coordiante_latitude))"
   ]
  },
  {
   "cell_type": "code",
   "execution_count": 91,
   "id": "fb5ff234-c7cc-4118-94e3-a3bba478eee1",
   "metadata": {},
   "outputs": [
    {
     "name": "stdout",
     "output_type": "stream",
     "text": [
      "[6, 10, 14, 18, 22, 26]\n",
      "The list length=6\n",
      "Maximum value=26\n",
      "Minimum value=6\n"
     ]
    }
   ],
   "source": [
    "lst_n=list(range(6,30,4))\n",
    "print(lst_n)\n",
    "print(\"The list length={}\".format(len(lst_n)))\n",
    "print(\"Maximum value={}\".format(max(lst_n)))\n",
    "print(\"Minimum value={}\".format(min(lst_n)))"
   ]
  },
  {
   "cell_type": "code",
   "execution_count": 22,
   "id": "e3d5b425-e519-45f0-8797-4a7b5c94368e",
   "metadata": {},
   "outputs": [
    {
     "name": "stdout",
     "output_type": "stream",
     "text": [
      "['F', 'G', 'H', 'I', 'J', 'K', 'L', 'M', 'N', 'O', 'P', 'Q', 'R', 'S', 'T', 'U', 'V', 'W', 'X', 'Y']\n",
      "__________________________________________________\n",
      "[6:9]->['L', 'M', 'N']\n",
      "[-4:-7]->[]\n",
      "[-4:]->['V', 'W', 'X', 'Y']\n",
      "[:4]->['F', 'G', 'H', 'I']\n",
      "[:]->['F', 'G', 'H', 'I', 'J', 'K', 'L', 'M', 'N', 'O', 'P', 'Q', 'R', 'S', 'T', 'U', 'V', 'W', 'X', 'Y']\n",
      "__________________________________________________\n",
      "lst_s[7]=12->['F', 'G', 'H', 'I', 'J', 'K', 'L', 12, 'N', 'O', 'P', 'Q', 'R', 'S', 'T', 'U', 'V', 'W', 'X', 'Y']\n",
      "lst_s+[None]*8->['F', 'G', 'H', 'I', 'J', 'K', 'L', 12, 'N', 'O', 'P', 'Q', 'R', 'S', 'T', 'U', 'V', 'W', 'X', 'Y', None, None, None, None, None, None, None, None]\n",
      "lst_qi[14]=8888->['F', 'G', 'H', 'I', 'J', 'K', 'L', 12, 'N', 'O', 'P', 'Q', 'R', 'S', 8888, 'U', 'V', 'W', 'X', 'Y', None, None, None, None, None, None, None, None]\n",
      "lst_qi[7:-3]=list(range(70,90,2))->['F', 'G', 'H', 'I', 'J', 'K', 'L', 70, 72, 74, 76, 78, 80, 82, 84, 86, 88, None, None, None]\n",
      "lst_qi[9:1]=[1,2,1,10]->['F', 'G', 'H', 'I', 'J', 'K', 'L', 70, 72, 1, 2, 1, 10, 74, 76, 78, 80, 82, 84, 86, 88, None, None, None]\n",
      "del lst_qi[-3:]->['F', 'G', 'H', 'I', 'J', 'K', 'L', 70, 72, 1, 2, 1, 10, 74, 76, 78, 80, 82, 84, 86, 88]\n"
     ]
    }
   ],
   "source": [
    "lst_s=list(map(chr,range(70,90)))\n",
    "print(lst_s)\n",
    "print(\"_\"*50)\n",
    "print(\"[6:9]->{}\".format(lst_s[6:9]))\n",
    "print(\"[-4:-7]->{}\".format(lst_s[-4:-7]))\n",
    "print(\"[-4:]->{}\".format(lst_s[-4:]))\n",
    "print(\"[:4]->{}\".format(lst_s[:4]))\n",
    "print(\"[:]->{}\".format(lst_s[:]))\n",
    "print(\"_\"*50)\n",
    "lst_s[7]=12\n",
    "print(\"lst_s[7]=12->{}\".format(lst_s))\n",
    "lst_qi=lst_s+[None]*8\n",
    "print(\"lst_s+[None]*8->{}\".format(lst_qi))\n",
    "lst_qi[14]=8888\n",
    "print(\"lst_qi[14]=8888->{}\".format(lst_qi))\n",
    "lst_qi[7:-3]=list(range(70,90,2))\n",
    "print(\"lst_qi[7:-3]=list(range(70,90,2))->{}\".format(lst_qi))\n",
    "lst_qi[9:1]=[1,2,1,10]\n",
    "print(\"lst_qi[9:1]=[1,2,1,10]->{}\".format(lst_qi))\n",
    "del lst_qi[-3:]\n",
    "print(\"del lst_qi[-3:]->{}\".format(lst_qi))"
   ]
  },
  {
   "cell_type": "code",
   "execution_count": 28,
   "id": "cc95db58-cd94-4c3e-9dd4-0d9488c0a219",
   "metadata": {},
   "outputs": [
    {
     "name": "stdout",
     "output_type": "stream",
     "text": [
      "['Z', '[', '\\\\', ']', '^', '_', '`', 'a', 'b', 'c']\n",
      "__________________________________________________________________________________________\n",
      "lst_s_1.append(888)->['Z', '[', '\\\\', ']', '^', '_', '`', 'a', 'b', 'c', 888]\n",
      "lst_s_1.append(list(range(60,78,3)))->['Z', '[', '\\\\', ']', '^', '_', '`', 'a', 'b', 'c', 888, [60, 63, 66, 69, 72, 75]]\n",
      "lst_s_1.extend(lst_spechars)->['Z', '[', '\\\\', ']', '^', '_', '`', 'a', 'b', 'c', 888, [60, 63, 66, 69, 72, 75], '/', '-', '+']\n",
      "lst_s_1.count('/')=1\n",
      "lst_s_1.index('a')=7\n",
      "lst_s_1.insert(3,[400,500,600])->['Z', '[', '\\\\', [400, 500, 600], ']', '^', '_', '`', 'a', 'b', 'c', 888, [60, 63, 66, 69, 72, 75], '/', '-', '+']\n",
      "lst_s_1.pop(3)_popup->`\n",
      "lst_s_1.pop(3)_retention->['Z', '[', '\\\\', [400, 500, 600], ']', '^', '_', 'a', 'b', 'c', 888, [60, 63, 66, 69, 72, 75], '/', '-', '+']\n",
      "lst_s_1.remove('/')_retention->['Z', '[', '\\\\', [400, 500, 600], ']', '^', '_', 'a', 'b', 'c', 888, [60, 63, 66, 69, 72, 75], '-', '+']\n",
      "list_n_1.sort()->[1, 3, 5, 7, 9, 11]\n"
     ]
    }
   ],
   "source": [
    "lst_s_1=list(map(chr,range(90,100)))\n",
    "print(lst_s_1)\n",
    "print(\"_\"*90)\n",
    "lst_s_1.append(888)\n",
    "print(\"lst_s_1.append(888)->{}\".format(lst_s_1))\n",
    "lst_s_1.append(list(range(60,78,3)))\n",
    "print(\"lst_s_1.append(list(range(60,78,3)))->{}\".format(lst_s_1))\n",
    "lst_spechars=['/','-','+']\n",
    "lst_s_1.extend(lst_spechars)\n",
    "print(\"lst_s_1.extend(lst_spechars)->{}\".format(lst_s_1))\n",
    "print(\"lst_s_1.count('/')={}\".format(lst_s_1.count('/')))\n",
    "print(\"lst_s_1.index('a')={}\".format(lst_s_1.index('a')))\n",
    "lst_s_1.insert(3,[400,500,600])\n",
    "print(\"lst_s_1.insert(3,[400,500,600])->{}\".format(lst_s_1))\n",
    "print(\"lst_s_1.pop(3)_popup->{}\".format(lst_s_1.pop(7)))\n",
    "print(\"lst_s_1.pop(3)_retention->{}\".format(lst_s_1))\n",
    "lst_s_1.remove('/')\n",
    "print(\"lst_s_1.remove('/')_retention->{}\".format(lst_s_1))\n",
    "list_n_1=[1,3,5,7,9,11]\n",
    "list_n_1.sort()\n",
    "print(\"list_n_1.sort()->{}\".format(list_n_1))"
   ]
  },
  {
   "cell_type": "code",
   "execution_count": 29,
   "id": "10681543-c921-435b-85e3-599fb3dc5da8",
   "metadata": {},
   "outputs": [
    {
     "name": "stdout",
     "output_type": "stream",
     "text": [
      "tuple_1=6,7,8,->(6, 7, 8)\n",
      "7*(11*3,)->(33, 33, 33, 33, 33, 33, 33)\n",
      "tuple((7,7,9))->(7, 7, 9)\n",
      "tuple([4,8,0])->(4, 8, 0)\n"
     ]
    }
   ],
   "source": [
    "tuple_1=6,7,8,\n",
    "print(\"tuple_1=6,7,8,->{}\".format(tuple_1))\n",
    "print(\"7*(11*3,)->{}\".format(7*(11*3,)))\n",
    "print(\"tuple((7,7,9))->{}\".format(tuple((7,7,9)))) \n",
    "print(\"tuple([4,8,0])->{}\".format(tuple([4,8,0])))"
   ]
  },
  {
   "cell_type": "code",
   "execution_count": 30,
   "id": "8f15a91b-e5bd-434f-973f-9ad9587bbcb4",
   "metadata": {},
   "outputs": [
    {
     "name": "stdout",
     "output_type": "stream",
     "text": [
      "items->[(0, [0, 1, 2, 3, 4, 5]), (1, [[56, 87, 84, 61]]), (2, 'python')]\n",
      "dic=dict(items)->{0: [0, 1, 2, 3, 4, 5], 1: [[56, 87, 84, 61]], 2: 'python'}\n",
      "dic[1]->[[56, 87, 84, 61]]\n"
     ]
    }
   ],
   "source": [
    "import random\n",
    "items=[(0,[i for i in range(6)]),(1,[random.sample(list(range(50,100,1)),4)]),(2,'python')] \n",
    "print(\"items->{}\".format(items))\n",
    "dic=dict(items)\n",
    "print(\"dic=dict(items)->{}\".format(dic))\n",
    "print(\"dic[1]->{}\".format(dic[1]))"
   ]
  },
  {
   "cell_type": "code",
   "execution_count": 67,
   "id": "f77893f2-916c-4d89-800b-2a72249af9b2",
   "metadata": {},
   "outputs": [
    {
     "name": "stdout",
     "output_type": "stream",
     "text": [
      "dic[1]->[[98, 70, 79, 78]]\n",
      "len(dic)->3\n",
      "dic[3]=(random.random(),random.uniform(100,150))->{0: [0, 1, 2, 3, 4, 5], 1: [[98, 70, 79, 78]], 2: 'python', 3: (0.8786546612038507, 198.81386752714712)}\n",
      "del dic[1]->{0: [0, 1, 2, 3, 4, 5], 2: 'python', 3: (0.8786546612038507, 198.81386752714712)}\n",
      "3 in dic->True\n",
      "8 in dic->False\n",
      "dic.keys()->dict_keys([0, 2, 3])\n",
      "dic.values()->dict_values([[0, 1, 2, 3, 4, 5], 'python', (0.8786546612038507, 198.81386752714712)])\n",
      "dic.items()->dict_items([(0, [0, 1, 2, 3, 4, 5]), (2, 'python'), (3, (0.8786546612038507, 198.81386752714712))])\n",
      "__________________________________________________\n",
      "list(dic.keys())->[0, 2, 3]\n"
     ]
    }
   ],
   "source": [
    "import random\n",
    "items=[(0,[i for i in range(6)]),(1,[random.sample(list(range(50,100,1)),4)]),(2,'python')] \n",
    "dic=dict(items)\n",
    "print(\"dic[1]->{}\".format(dic[1]))\n",
    "print(\"len(dic)->{}\".format(len(dic)))\n",
    "dic[3]=(random.random(),random.uniform(200,150))\n",
    "print(\"dic[3]=(random.random(),random.uniform(100,150))->{}\".format(dic))\n",
    "del dic[1]\n",
    "print(\"del dic[1]->{}\".format(dic))\n",
    "print(\"3 in dic->{}\".format(3 in dic))\n",
    "print(\"8 in dic->{}\".format(8 in dic))\n",
    "print(\"dic.keys()->{}\".format(dic.keys())) \n",
    "print(\"dic.values()->{}\".format(dic.values()))\n",
    "print(\"dic.items()->{}\".format(dic.items()))\n",
    "print(\"_\"*50)\n",
    "print(\"list(dic.keys())->{}\".format(list(dic.keys())))"
   ]
  },
  {
   "cell_type": "code",
   "execution_count": 1,
   "id": "82795bf9-c120-4d19-98f7-59c219d3ff5b",
   "metadata": {},
   "outputs": [
    {
     "name": "stdout",
     "output_type": "stream",
     "text": [
      "lst_A=[5, 12, 19, 26, 33],lst_B=[20, 30, 40, 50, 60, 70]\n",
      "dic_1={0: [5, 12, 19, 26, 33], 1: [20, 30, 40, 50, 60, 70]}\n",
      "____________________________________________________________\n",
      "dic_assignment={0: [5, 12, 19, 26, 33], 1: [20, 30, 40, 50, 60, 70]}\n",
      "dic_1.clear()->{}\n",
      "dic_assignment={}\n",
      "dic_1[6]=list(range(2,10,2))->{6: [2, 4, 6, 8]}\n",
      "dic_copy=dic_1.copy()->{6: [2, 4, 6, 8]}\n",
      "dic_1[7]=[3,6,9]->{6: [2, 4, 6, 8], 7: [3, 6, 9]}\n",
      "dic_copy={6: [2, 4, 6, 8]}\n",
      "dic_copy[7].remove(7)->{6: [2, 4, 8]}\n",
      "dic_copy.setdefault(5,[22,71])->{6: [2, 4, 8]}\n",
      "dic_1.pop(6)->{7: [3, 6, 9]}\n",
      "dic_update={6: [2, 6, 8, 10, 12], 9: [3, 7, 9, 11, 22]}\n",
      "dic_1.update(dic_update->{7: [3, 6, 9], 6: [2, 6, 8, 10, 12], 9: [3, 7, 9, 11, 22]}\n",
      "dic_1.get(9)->[3, 7, 9, 11, 22]\n",
      "dic_1.popitem()->{7: [3, 6, 9], 6: [2, 6, 8, 10, 12]}\n",
      "dic_3={}.fromkeys([2,3,6,8,9,'A'])->{2: None, 3: None, 6: None, 8: None, 9: None, 'A': None}\n"
     ]
    }
   ],
   "source": [
    "lst_A=list(range(5,35,7))\n",
    "lst_B=list(range(20,80,10))\n",
    "print(\"lst_A={},lst_B={}\".format(lst_A,lst_B))\n",
    "dic_1={0:lst_A,1:lst_B}\n",
    "print(\"dic_1={}\".format(dic_1))\n",
    "print(\"_\"*60)\n",
    "dic_assignment=dic_1\n",
    "print(\"dic_assignment={}\".format(dic_assignment))\n",
    "dic_1.clear()\n",
    "print(\"dic_1.clear()->{}\".format(dic_1))\n",
    "print(\"dic_assignment={}\".format(dic_assignment))\n",
    "dic_1[6]=list(range(2,10,2))\n",
    "print(\"dic_1[6]=list(range(2,10,2))->{}\".format(dic_1))\n",
    "dic_copy=dic_1.copy()\n",
    "print(\"dic_copy=dic_1.copy()->{}\".format(dic_copy))\n",
    "dic_1[7]=[3,6,9]\n",
    "print(\"dic_1[7]=[3,6,9]->{}\".format(dic_1))\n",
    "print(\"dic_copy={}\".format(dic_copy))\n",
    "dic_copy[6].remove(6)\n",
    "print(\"dic_copy[7].remove(7)->{}\".format(dic_copy))\n",
    "dic_copy.setdefault(6,[77,99])\n",
    "print(\"dic_copy.setdefault(5,[22,71])->{}\".format(dic_copy))\n",
    "dic_1.pop(6) \n",
    "print(\"dic_1.pop(6)->{}\".format(dic_1))\n",
    "dic_update={6:[2,6,8,10,12],9:[3,7,9,11,22]}\n",
    "print(\"dic_update={}\".format(dic_update))\n",
    "dic_1.update(dic_update)\n",
    "print(\"dic_1.update(dic_update->{}\".format(dic_1))\n",
    "print(\"dic_1.get(9)->{}\".format(dic_1.get(9)))\n",
    "dic_1.popitem() \n",
    "print(\"dic_1.popitem()->{}\".format(dic_1))\n",
    "\n",
    "dic_3={}.fromkeys([2,3,6,8,9,'A'])\n",
    "print(\"dic_3={}\"+\".fromkeys([2,3,6,8,9,'A'])->{}\".format(dic_3))"
   ]
  },
  {
   "cell_type": "code",
   "execution_count": 4,
   "id": "277f295c-9692-4847-90d4-7f0eeda55c41",
   "metadata": {},
   "outputs": [
    {
     "name": "stdout",
     "output_type": "stream",
     "text": [
      "lst_s_3=list(\"Hello World!\")->['H', 'e', 'l', 'l', 'o', ' ', 'W', 'o', 'r', 'l', 'd', '!']\n",
      "\"Hellow\"+\" World!\"->Hellow World!\n",
      "\"+\".join(str(123456))->8+5+4+2+6\n",
      "len(\"Hellow World!\")->13\n",
      "coordinates.split(\",\")->['92.30151', '40.82403', '7.1']\n",
      "eval(coordinates)->(92.30151, 40.82403, 7.1)\n",
      "\"Hello World!\".lower()->hello world!\n",
      "\"Hello World!\".upper()->HELLO WORLD!\n",
      "\"Hello World!\"[6:]->World!\n",
      "\"    Hello World!    \".strip()->Hello World!\n",
      "\"Hello World!\".replace(\"World\",\"Grasshopper\")->Hello Grasshopper!\n",
      "hello_lst.sort()>[' ', '!', 'H', 'W', 'd', 'e', 'l', 'l', 'l', 'o', 'o', 'r']\n",
      "\"Hello World!\".find(\"Wo\")->6\n"
     ]
    }
   ],
   "source": [
    "lst_s_3=list(\"Hello World!\")\n",
    "print(\"lst_s_3=list(\\\"Hello World!\\\")->{}\".format(lst_s_3)) \n",
    "print(\"\\\"Hellow\\\"+\\\" World!\\\"->{}\".format(\"Hellow\"+\" World!\"))\n",
    "print(\"\\\"+\\\".join(str(123456))->{}\".format(\"+\".join(str(85426))))\n",
    "print(\"len(\\\"Hellow World!\\\")->{}\".format(len(\"Hellow World!\")))\n",
    "coordinates=\"92.30151,40.82403,7.1\"\n",
    "print(\"coordinates.split(\\\",\\\")->{}\".format(coordinates.split(\",\")))\n",
    "print(\"eval(coordinates)->{}\".format(eval(coordinates))) \n",
    "print(\"\\\"Hello World!\\\".lower()->{}\".format(\"Hello World!\".lower()))\n",
    "print(\"\\\"Hello World!\\\".upper()->{}\".format(\"Hello World!\".upper()))\n",
    "print(\"\\\"Hello World!\\\"[6:]->{}\".format(\"Hello World!\"[6:]))\n",
    "print(\"\\\"    Hello World!    \\\".strip()->{}\".format(\"    Hello World!    \".strip()))\n",
    "print(\"\\\"Hello World!\\\".replace(\\\"World\\\",\\\"Grasshopper\\\")->{}\".format(\"Hello World!\".replace(\"World\",\"Grasshopper\")))\n",
    "hello_lst=list(\"Hello World!\")\n",
    "hello_lst.sort()\n",
    "print(\"hello_lst.sort()>{}\".format(hello_lst))\n",
    "print(\"\\\"Hello World!\\\".find(\\\"Wo\\\")->{}\".format(\"Hello World!\".find(\"Wo\")))"
   ]
  },
  {
   "cell_type": "code",
   "execution_count": 6,
   "id": "b3ef7f1b-5538-4281-bba0-0aca56f50605",
   "metadata": {},
   "outputs": [
    {
     "name": "stdout",
     "output_type": "stream",
     "text": [
      "s_1=s_template_1.substitute(x=\"World\")->World,glorious,World!\n",
      "s_2=s_template_2.substitute(x=\"Wo\")->Wothon is amazing!\n",
      "substitute_dict={'x': 'World', 'y': 'Care'}\n",
      "s_3=s_template_3.substitute(substitute_dict)->World and Care are both amazing!\n"
     ]
    }
   ],
   "source": [
    "from string import Template\n",
    "s_template_1=Template(\"$x,glorious,$x!\")\n",
    "s_1=s_template_1.substitute(x=\"World\")\n",
    "print(\"s_1=s_template_1.substitute(x=\\\"World\\\")->{}\".format(s_1))\n",
    "s_template_2=Template(\"${x}thon is amazing!\")\n",
    "s_2=s_template_2.substitute(x=\"Wo\")\n",
    "print(\"s_2=s_template_2.substitute(x=\\\"Wo\\\")->{}\".format(s_2))\n",
    "s_template_3=Template(\"$x and $y are both amazing!\")\n",
    "substitute_dict=dict([('x','World'),('y','Care')])\n",
    "print(\"substitute_dict={}\".format(substitute_dict))\n",
    "s_3=s_template_3.substitute(substitute_dict)\n",
    "print(\"s_3=s_template_3.substitute(substitute_dict)->{}\".format(s_3))"
   ]
  },
  {
   "cell_type": "code",
   "execution_count": 7,
   "id": "59a39814-b52a-4122-861c-20701c845924",
   "metadata": {},
   "outputs": [
    {
     "name": "stdout",
     "output_type": "stream",
     "text": [
      "re.findall(pattern_1,text)->['World']\n",
      "re.findall(pattern_2,text)->['World']\n"
     ]
    }
   ],
   "source": [
    "import re\n",
    "pattern_1='World'\n",
    "text=\"Hello World!\"\n",
    "print(\"re.findall(pattern_1,text)->{}\".format(re.findall(pattern_1,text)))\n",
    "pattern_2='World'\n",
    "print(\"re.findall(pattern_2,text)->{}\".format(re.findall(pattern_2,text)))"
   ]
  },
  {
   "cell_type": "code",
   "execution_count": 12,
   "id": "e3ec0ca1-69a1-4eb1-9dab-7bbc14e28696",
   "metadata": {},
   "outputs": [
    {
     "name": "stdout",
     "output_type": "stream",
     "text": [
      "re.findall('.orld','Hello World!')->['World']\n",
      "re.findall('.orld','Hello aorld!')->['aorld']\n",
      "re.findall('.orld','Hello aWorld!')->['World']\n",
      "re.findall('.orld','Hello Wrld!')->[]\n",
      "re.findall(r'w?cadesign\\.cn,w+\\.cadesign\\.cn','cadesign.cn,www.cadesign.cn')->['cadesign.cn,www.cadesign.cn']\n",
      "re.findall(r'w{2}\\.cadesign\\.cn','www.cadesign.cn')->['ww.cadesign.cn']\n",
      "re.findall(r'w{1,3}\\.cadesign\\.cn','www.cadesign.cn')->['www.cadesign.cn']\n",
      "re.findall('[Wo]*rld!','Hello World!')->['World!']\n",
      "re.findall('[Wo]*rld!','Hello Wrld!')->['Wrld!']\n",
      "re.findall('[Wo]*rld!','Hello orld!')->['orld!']\n",
      "re.findall('[Wo]*rld!','Hello orld!')->['rld!']\n",
      "re.findall('\\d','number=8')->['8']\n",
      "re.findall('\\D','number=8')->['n', 'u', 'm', 'b', 'e', 'r', '=']\n",
      "re.findall('[^1-8]','number=9')->['n', 'u', 'm', 'b', 'e', 'r', '=', '9']\n",
      "'World'.find('World')->0\n",
      "'World'.find('rld')->2\n",
      "'World'.find('b')->-1\n",
      "'W' in 'World'->True\n",
      "'Hello,,,,,,World!'.split(',')->['Hello', '', '', '', '', '', 'World!']\n",
      "'Hello World!'.replace('World','Grasshopper')->Hello Grasshopper!\n"
     ]
    }
   ],
   "source": [
    "print(\"re.findall('.orld','Hello World!')->{}\".format(re.findall('.orld','Hello World!')))\n",
    "print(\"re.findall('.orld','Hello aorld!')->{}\".format(re.findall('.orld','Hello aorld!')))\n",
    "print(\"re.findall('.orld','Hello aWorld!')->{}\".format(re.findall('.orld','Hello aWorld!')))\n",
    "print(\"re.findall('.orld','Hello Wrld!')->{}\".format(re.findall('.orld','Hello Wrld!')))\n",
    "print(\"re.findall(r'w?cadesign\\.cn,w+\\.cadesign\\.cn','cadesign.cn,www.cadesign.cn')->{}\".format(re.findall(r'w?cadesign\\.cn,w+\\.cadesign\\.cn','cadesign.cn,www.cadesign.cn')))\n",
    "print(\"re.findall(r'w{2}\"+\"\\.cadesign\\.cn','www.cadesign.cn')->{}\".format(re.findall(r'w{2}\\.cadesign\\.cn','www.cadesign.cn')))\n",
    "print(\"re.findall(r'w{1,3}\"+\"\\.cadesign\\.cn','www.cadesign.cn')->{}\".format(re.findall(r'w{1,3}\\.cadesign\\.cn','www.cadesign.cn')))\n",
    "print(\"re.findall('[Wo]*rld!','Hello World!')->{}\".format(re.findall('[Wo]*rld!','Hello World!')))\n",
    "print(\"re.findall('[Wo]*rld!','Hello Wrld!')->{}\".format(re.findall('[Wo]*rld!','Hello Wrld!')))\n",
    "print(\"re.findall('[Wo]*rld!','Hello orld!')->{}\".format(re.findall('[Wo]*rld!','Hello orld!')))\n",
    "print(\"re.findall('[Wo]*rld!','Hello orld!')->{}\".format(re.findall('[Wo]*rld!','Hello rld!')))\n",
    "print(\"re.findall('\\d','number=8')->{}\".format(re.findall('\\d','number=8')))\n",
    "print(\"re.findall('\\D','number=8')->{}\".format(re.findall('\\D','number=8')))\n",
    "print(\"re.findall('[^1-8]','number=9')->{}\".format(re.findall('[^1-8]','number=9')))\n",
    "print(\"\\'World\\'.find(\\'World\\')->{}\".format('World'.find('World')))\n",
    "print(\"\\'World\\'.find(\\'rld\\')->{}\".format('World'.find('rld')))\n",
    "print(\"\\'World\\'.find(\\'b\\')->{}\".format('World'.find('b')))\n",
    "print(\"\\'W\\' in \\'World\\'->{}\".format('W' in 'World'))\n",
    "print(\"\\'Hello,,,,,,World!\\'.split(',')->{}\".format( 'Hello,,,,,,World!'.split(',')))\n",
    "print(\"\\'Hello World!\\'.replace(\\'World\\',\\'Grasshopper\\')->{}\".format( 'Hello World!'.replace('World','Grasshopper')))"
   ]
  },
  {
   "cell_type": "code",
   "execution_count": 17,
   "id": "ec143dd1-a345-49b1-89cd-4e70ea785ef5",
   "metadata": {},
   "outputs": [
    {
     "name": "stdout",
     "output_type": "stream",
     "text": [
      "match_1.gourp(1)->World\n",
      "match_1.start(1)->4\n",
      "match_1.end(1)->9\n",
      "match_1.span(1)->(4, 9)\n",
      "match_2.group(1)->World\n",
      "match_2.group(2)->com\n"
     ]
    }
   ],
   "source": [
    "match_1=re.match(r'www\\.(.*)\\..{3}','www.World.com')\n",
    "print(\"match_1.gourp(1)->{}\".format(match_1.group(1)))\n",
    "print(\"match_1.start(1)->{}\".format(match_1.start(1)))\n",
    "print(\"match_1.end(1)->{}\".format(match_1.end(1)))\n",
    "print(\"match_1.span(1)->{}\".format(match_1.span(1)))\n",
    "match_2=re.match(r'www\\.(.*)\\.(.{3})','www.World.com')\n",
    "print(\"match_2.group(1)->{}\".format(match_2.group(1)))\n",
    "print(\"match_2.group(2)->{}\".format(match_2.group(2)))"
   ]
  },
  {
   "cell_type": "code",
   "execution_count": 20,
   "id": "7da85ede-085d-42b6-b477-cb82e3683dbc",
   "metadata": {},
   "outputs": [
    {
     "name": "stdout",
     "output_type": "stream",
     "text": [
      "lst_1=[22, 31, 40, 49]\n",
      "__________________________________________________\n",
      "for i in lst_1:\n",
      "22\n",
      "31\n",
      "40\n",
      "49\n",
      "for i in range(len(lst_1)):\n",
      "idx=0,val=22\n",
      "idx=1,val=31\n",
      "idx=2,val=40\n",
      "idx=3,val=49\n",
      "++++++++++++++++++++++++++++++++++++++++++++++++++\n",
      "dic_4={'a': 4, 'b': 8, 'c': 2, 'd': 1}\n",
      "__________________________________________________\n",
      "for k in dic_4:\n",
      "a\n",
      "b\n",
      "c\n",
      "d\n",
      "for k,v in dic_4.items():\n",
      "key=a,val=4\n",
      "key=b,val=8\n",
      "key=c,val=2\n",
      "key=d,val=1\n"
     ]
    }
   ],
   "source": [
    "lst_1=list(range(22,50,9))\n",
    "print(\"lst_1={}\".format(lst_1))\n",
    "print(\"_\"*50)\n",
    "print(\"for i in lst_1:\")\n",
    "for i in lst_1:\n",
    "    print(i)\n",
    "print(\"for i in range(len(lst_1)):\")\n",
    "for i in range(len(lst_1)):\n",
    "    print(\"idx={},val={}\".format(i,lst_1[i]))\n",
    "print(\"+\"*50)   \n",
    "dic_4=dict(a=4,b=8,c=2,d=1)\n",
    "print(\"dic_4={}\".format(dic_4))\n",
    "print(\"_\"*50)\n",
    "print(\"for k in dic_4:\")\n",
    "for k in dic_4:\n",
    "    print(k)\n",
    "print(\"for k,v in dic_4.items():\")\n",
    "for k,v in dic_4.items():\n",
    "    print(\"key={},val={}\".format(k,v))"
   ]
  },
  {
   "cell_type": "code",
   "execution_count": 21,
   "id": "41dcb4b2-aba0-41ee-b8e3-f36e68587ec0",
   "metadata": {},
   "outputs": [
    {
     "name": "stdout",
     "output_type": "stream",
     "text": [
      "x=2\n",
      "x=10\n",
      "x=18\n",
      "x=26\n",
      "x=34\n",
      "x=42\n",
      "x=50\n",
      "x=58\n",
      "x=66\n",
      "x=74\n"
     ]
    }
   ],
   "source": [
    "x=2\n",
    "while x<=80:\n",
    "    print(\"x={}\".format(x))\n",
    "    x+=8"
   ]
  },
  {
   "cell_type": "code",
   "execution_count": 23,
   "id": "c966aa84-ae54-44ac-ade0-f88e4e0fba1a",
   "metadata": {},
   "outputs": [
    {
     "name": "stdout",
     "output_type": "stream",
     "text": [
      "x=2\n",
      "x=10\n",
      "x=18\n",
      "x=26\n",
      "x=34\n",
      "x=42\n",
      "x=50\n",
      "sys.maxsize=9223372036854775807\n",
      "i=0\n",
      "i=1\n",
      "i=2\n",
      "i=3\n",
      "i=4\n",
      "i=5\n",
      "i=6\n",
      "i=7\n",
      "i=8\n",
      "i=9\n",
      "i=10\n",
      "i=11\n",
      "i=12\n"
     ]
    }
   ],
   "source": [
    "x=2\n",
    "while x<=80:\n",
    "    print(\"x={}\".format(x))\n",
    "    x+=8\n",
    "    if x>=54:break    \n",
    "    \n",
    "import sys\n",
    "print(\"sys.maxsize={}\".format(sys.maxsize))\n",
    "for i in range(sys.maxsize):\n",
    "    print(\"i={}\".format(i))  #?\n",
    "    i+=8\n",
    "    if i>=20:break"
   ]
  },
  {
   "cell_type": "code",
   "execution_count": 44,
   "id": "9170bf00-14f5-44dc-b5e0-d8780939741d",
   "metadata": {},
   "outputs": [
    {
     "name": "stdout",
     "output_type": "stream",
     "text": [
      "zip_lst=zip(lst_m,lst_n)-><zip object at 0x00000238D4A23240>\n",
      "dict(zip_lst)->{2: 'point_m', 5: 'point_n', 3: 'point_c', 4: 'point_d'}\n",
      "2 point_m\n",
      "5 point_n\n",
      "3 point_c\n",
      "4 point_d\n",
      "m=(2, 5, 3, 4),n=('point_m', 'point_n', 'point_c', 'point_d')\n"
     ]
    }
   ],
   "source": [
    "lst_m=[2,5,3,4]\n",
    "lst_n=['point_m','point_n','point_c','point_d']\n",
    "zip_lst=zip(lst_a,lst_b) \n",
    "print(\"zip_lst=zip(lst_m,lst_n)->{}\".format(zip_lst))\n",
    "print(\"dict(zip_lst)->{}\".format(dict(zip_lst)))\n",
    "\n",
    "zip_lst=zip(lst_m,lst_n) \n",
    "for m,n in zip_lst:\n",
    "    print(m,n)\n",
    "    \n",
    "zip_lst=zip(lst_m,lst_n)\n",
    "m,n=zip(*zip_lst)\n",
    "print(\"m={},n={}\".format(m,n))"
   ]
  },
  {
   "cell_type": "code",
   "execution_count": 46,
   "id": "599b1b0d-6737-4f74-a6e6-2291522d034c",
   "metadata": {},
   "outputs": [
    {
     "name": "stdout",
     "output_type": "stream",
     "text": [
      "dic_1={0: 'point_m', 1: 'point_n', 2: 'point_x', 3: 'point_c'}\n",
      "dict((i,v) for i,v in enumerate(lst_c))->{0: 'point_a', 1: 'point_b', 2: 'point_c', 3: 'point_d'}\n",
      "__________________________________________________\n",
      "0:2,point_m\n",
      "1:5,point_n\n",
      "2:3,point_c\n",
      "3:4,point_d\n"
     ]
    }
   ],
   "source": [
    "lst_d=['point_m','point_n','point_x','point_c']\n",
    "dic_1={}\n",
    "for idx,value in enumerate(lst_d):\n",
    "    dic_1[idx]=value\n",
    "print(\"dic_1={}\".format(dic_1))\n",
    "print(\"dict((i,v) for i,v in enumerate(lst_c))->{}\".format(dict((i,v) for i,v in enumerate(lst_c)))) #list comprehension\n",
    "print(\"_\"*50)\n",
    "for i,(m,n) in enumerate(zip(lst_m,lst_n)):\n",
    "    print('%d:%s,%s'%(i,m,n))"
   ]
  },
  {
   "cell_type": "code",
   "execution_count": 49,
   "id": "08e8caa3-9e79-4e81-a73f-80636cb5a17e",
   "metadata": {},
   "outputs": [
    {
     "name": "stdout",
     "output_type": "stream",
     "text": [
      "Positive and larger than or equal to 10.\n"
     ]
    }
   ],
   "source": [
    "x=11\n",
    "if x<0:\n",
    "    print('It is negative.')\n",
    "elif x==0:\n",
    "    print('Equal to zero.')\n",
    "elif 0<x<10:\n",
    "    print('Positive but smaller than 10')\n",
    "else:\n",
    "    print('Positive and larger than or equal to 10.')"
   ]
  },
  {
   "cell_type": "code",
   "execution_count": 51,
   "id": "5dd7e61e-527a-47a9-bbbc-f8d61ac58972",
   "metadata": {},
   "outputs": [
    {
     "name": "stdout",
     "output_type": "stream",
     "text": [
      "x==y->True\n",
      "x is y->True\n",
      "x==z->False\n",
      "x is z->False\n",
      "x is not y->False\n",
      "x is not z->True\n",
      "id_x:2443107647360;id_y:2443107647360;id_z:2443107682304\n",
      "x=[4, 8],y=[4, 8],z=[4, 4, 10] after del x[2]\n"
     ]
    }
   ],
   "source": [
    "x=y=[4,8,10]\n",
    "z=[4,4,10]\n",
    "print(\"x==y->{}\".format(x==y))\n",
    "print(\"x is y->{}\".format(x is y))\n",
    "print(\"x==z->{}\".format(x==z))\n",
    "print(\"x is z->{}\".format(x is z))\n",
    "print(\"x is not y->{}\".format(x is not y))\n",
    "print(\"x is not z->{}\".format(x is not z))\n",
    "print(\"id_x:{};id_y:{};id_z:{}\".format(id(x),id(y),id(z))) #Memory Location\n",
    "\n",
    "del x[2]\n",
    "print(\"x={},y={},z={} after del x[2]\".format(x,y,z))"
   ]
  },
  {
   "cell_type": "code",
   "execution_count": 55,
   "id": "15853f70-a2cf-4179-849a-77f9d5114633",
   "metadata": {},
   "outputs": [
    {
     "name": "stdout",
     "output_type": "stream",
     "text": [
      "4 in x->True\n",
      "0 in x->False\n",
      "4 not in x->False\n",
      "8 not in x->False\n"
     ]
    }
   ],
   "source": [
    "x=[4,8,10]\n",
    "print(\"4 in x->{}\".format(4 in x))\n",
    "print(\"0 in x->{}\".format(0 in x))\n",
    "print(\"4 not in x->{}\".format(4 not in x))\n",
    "print(\"0 not in x->{}\".format(0 not in x))"
   ]
  },
  {
   "cell_type": "code",
   "execution_count": 60,
   "id": "7cb0311a-e6d6-40b1-b83c-609023a34560",
   "metadata": {},
   "outputs": [
    {
     "name": "stdout",
     "output_type": "stream",
     "text": [
      "a<c<b warning!!!\n"
     ]
    }
   ],
   "source": [
    "a,b,c=5,4,20\n",
    "if c>a and c<b:\n",
    "    print('a<c<b')\n",
    "else: print('a<c<b warning!!!')"
   ]
  },
  {
   "cell_type": "code",
   "execution_count": 61,
   "id": "dd7ddf81-eb0f-41be-9be3-b4532929bcd1",
   "metadata": {},
   "outputs": [
    {
     "name": "stdout",
     "output_type": "stream",
     "text": [
      "simple_func(4,6)->262\n",
      "simple_func(6,4)->1300\n",
      "simple_func(y=6,x=4)->262\n"
     ]
    }
   ],
   "source": [
    "def simple_func(x,y):\n",
    "    z=pow(x,4)+y\n",
    "    return z\n",
    "print(\"simple_func(4,6)->{}\".format(simple_func(4,6)))\n",
    "print(\"simple_func(6,4)->{}\".format(simple_func(6,4)))\n",
    "print(\"simple_func(y=6,x=4)->{}\".format(simple_func(y=6,x=4)))"
   ]
  },
  {
   "cell_type": "code",
   "execution_count": 63,
   "id": "df4dfd96-6ec7-44c5-bc22-eaa3c6c69c0f",
   "metadata": {},
   "outputs": [
    {
     "name": "stdout",
     "output_type": "stream",
     "text": [
      "fibonacci(4,8)->[5, 8, 13, 21, 34, 55, 89, 144]\n",
      "fibonacci(5,9)->[5, 8, 13, 21, 34, 55, 89, 144, 233]\n"
     ]
    }
   ],
   "source": [
    "def fibonacci(s,count): \n",
    "    fib_lst=[0,1]\n",
    "    fib_part=[]\n",
    "    if s==0 or s==1:\n",
    "        fib_part[:]=fib_lst\n",
    "        for i in range(count-2):\n",
    "            fib_part.append(fib_part[-1]+fib_part[-2])\n",
    "    else:\n",
    "        while True:\n",
    "            fib_lst[:]=[fib_lst[1],fib_lst[0]+fib_lst[1]]\n",
    "            #print(fib_lst)\n",
    "            if fib_lst[1]-s>=0:break\n",
    "        fib_part[:]=fib_lst\n",
    "        if abs(fib_lst[0]-s)>=abs(fib_lst[1]-s):\n",
    "            for i in range(count-1):\n",
    "                fib_part.append(fib_part[-1]+fib_part[-2])\n",
    "            fib_part.pop(0)\n",
    "        else:\n",
    "            for i in range(count-2):\n",
    "                fib_part.append(fib_part[-1]+fib_part[-2])\n",
    "    return fib_part\n",
    "\n",
    "print(\"fibonacci(4,8)->{}\".format(fibonacci(4,8)))\n",
    "print(\"fibonacci(5,9)->{}\".format(fibonacci(5,9)))"
   ]
  },
  {
   "cell_type": "code",
   "execution_count": 65,
   "id": "af93735b-43e9-4406-9375-f675a658353c",
   "metadata": {},
   "outputs": [
    {
     "name": "stdout",
     "output_type": "stream",
     "text": [
      "120\n"
     ]
    }
   ],
   "source": [
    "def factorial(n):\n",
    "    if n==1:\n",
    "        return 1\n",
    "    else:\n",
    "        return n*factorial(n-1)\n",
    "print(factorial(5))"
   ]
  },
  {
   "cell_type": "code",
   "execution_count": 111,
   "id": "bb5701a5-d9bc-42a7-a8e8-8ee13687e15f",
   "metadata": {},
   "outputs": [
    {
     "name": "stdout",
     "output_type": "stream",
     "text": [
      "swift.fly->ffffffflyyyyyyying\n",
      "swift.eat()->\n",
      "hahaha...\n",
      "swift.eat()->\n",
      "No.wrong!\n",
      "swift.sing()->\n",
      "Squaaaaaaaaaaawk!\n",
      "blackswift.sing()->\n",
      "Squaaaaaaaaaaawk!\n",
      "scarceswift.sing()->\n",
      "Squaaaaaaaaaaawk!\n",
      "blackswift.fly->ffffffflyyyyyyying\n",
      "blackswift.fly after redefining the blackswif's attribute->humming\n",
      "scarceswift.fly->ffffffflyyyyyyying\n"
     ]
    }
   ],
   "source": [
    "class Bird:\n",
    "    fly='ffffffflyyyyyyying' \n",
    "    def __init__(self):\n",
    "        self.hungry=True\n",
    "    def eat(self):\n",
    "        if self.hungry:\n",
    "            print('hahaha...')\n",
    "            self.hungry=False\n",
    "        else:\n",
    "            print('No.wrong!')\n",
    "\n",
    "class Apodidae(Bird): \n",
    "    def __init__(self):\n",
    "        super(Apodidae,self).__init__()\n",
    "        self.sound='Squaaaaaaaaaaawk!' \n",
    "    def sing(self):\n",
    "        print(self.sound)\n",
    "swift=Apodidae()\n",
    "print(\"swift.fly->{}\".format(swift.fly))\n",
    "print(\"swift.eat()->\")\n",
    "swift.eat()\n",
    "print(\"swift.eat()->\")\n",
    "swift.eat()\n",
    "print(\"swift.sing()->\")\n",
    "swift.sing()\n",
    "blackswift=Apodidae()\n",
    "scarceswift=Apodidae()\n",
    "print(\"blackswift.sing()->\")\n",
    "blackswift.sing()\n",
    "print(\"scarceswift.sing()->\")\n",
    "scarceswift.sing()\n",
    "print(\"blackswift.fly->{}\".format(blackswift.fly))\n",
    "blackswift.fly='humming' \n",
    "print(\"blackswift.fly after redefining the blackswif's attribute->{}\".format(blackswift.fly))\n",
    "print(\"scarceswift.fly->{}\".format(scarceswift.fly))"
   ]
  },
  {
   "cell_type": "code",
   "execution_count": 116,
   "id": "3c91d308-877a-4d7f-a13f-2d2c1df1b301",
   "metadata": {},
   "outputs": [
    {
     "name": "stdout",
     "output_type": "stream",
     "text": [
      "fa=[1, 1, 2, 3]\n",
      "fb=[5, 8, 13, 21, 34, 55, 89, 144]\n",
      "lst_d=[5, 11, 17, 23, 29, 35, 41]\n",
      "__________________________________________________\n",
      "next(lst_iter)->5\n",
      "next(lst_iter)->11\n",
      "17\n",
      "23\n",
      "29\n",
      "35\n",
      "41\n"
     ]
    }
   ],
   "source": [
    "class Fibs():\n",
    "    def __init__(self):\n",
    "        self.a=0\n",
    "        self.b=1\n",
    "    def next(self):  \n",
    "        self.a,self.b=self.b,self.a+self.b\n",
    "        return self.a\n",
    "    def __iter__(self):\n",
    "        return self\n",
    "f=Fibs()\n",
    "fa=[]\n",
    "fb=[]\n",
    "for i in range(4):\n",
    "    fa.append(f.next())\n",
    "print(\"fa={}\".format(fa))\n",
    "for i in range(8):\n",
    "    fb.append(f.next())\n",
    "print(\"fb={}\".format(fb))\n",
    "lst_d=list(range(5,42,6))\n",
    "print(\"lst_d={}\".format(lst_d))\n",
    "print(\"_\"*50)\n",
    "lst_iter=iter(lst_d)\n",
    "print(\"next(lst_iter)->{}\".format(next(lst_iter)))\n",
    "print(\"next(lst_iter)->{}\".format(next(lst_iter)))\n",
    "for i in lst_iter:\n",
    "    print(i)"
   ]
  },
  {
   "cell_type": "code",
   "execution_count": 120,
   "id": "06c9355e-c2ee-48fb-8f10-a7c33c61e99e",
   "metadata": {},
   "outputs": [
    {
     "name": "stdout",
     "output_type": "stream",
     "text": [
      "lst_e=[[4, 8, 12, 16, 20, 24, 28], [7, 8, 77, [0, 1, 2], 60]]\n",
      "__________________________________________________\n",
      "flatten_lst=[4, 8, 12, 16, 20, 24, 28, 7, 8, 77, 0, 1, 2, 60]\n"
     ]
    }
   ],
   "source": [
    "lst_e=[list(range(4,30,4)),[7,8,77,list(range(3)),60]]\n",
    "print(\"lst_e={}\".format(lst_e))\n",
    "print(\"_\"*50)\n",
    "flatten_lst=[]\n",
    "for v_1 in lst_e:\n",
    "    try:\n",
    "        for v_2 in v_1:\n",
    "            try:\n",
    "                for v_3 in v_2:\n",
    "                    flatten_lst.append(v_3)\n",
    "            except TypeError:\n",
    "                flatten_lst.append(v_2)\n",
    "    except TypeError:\n",
    "        flatten_lst.append(v_1)\n",
    "print(\"flatten_lst={}\".format(flatten_lst))"
   ]
  },
  {
   "cell_type": "code",
   "execution_count": 128,
   "id": "a784910d-78b4-494e-bf05-9db27b8f6d3f",
   "metadata": {},
   "outputs": [
    {
     "name": "stdout",
     "output_type": "stream",
     "text": [
      "next(n)->num#0\n",
      "next(n)->num#1\n",
      "next(n)->num#2\n",
      "[next(n) for i in range(4)]->['num#3', 'num#4', 'num#5', 'num#6']\n",
      "([(2*pi*(2*(u/(n-1))-1),2*pi*(2*(v/(n-1))-1)) for u in range(n)] for v in range(n))-><generator object <genexpr> at 0x00000238D4B24350>\n"
     ]
    }
   ],
   "source": [
    "def infinite():\n",
    "    n=0\n",
    "    while True:\n",
    "        yield 'num#'+str(n)\n",
    "        n+=1\n",
    "n=infinite()\n",
    "print(\"next(n)->{}\".format(next(n)))\n",
    "print(\"next(n)->{}\".format(next(n)))\n",
    "print(\"next(n)->{}\".format(next(n)))\n",
    "print(\"[next(n) for i in range(4)]->{}\".format([next(n) for i in range(4)]))\n",
    "n=3\n",
    "print(\"([(2*pi*(2*(u/(n-1))-1),2*pi*(2*(v/(n-1))-1)) for u in range(n)] for v in range(n))->{}\".format(([(2*pi*(2*(u/(n-1))-1),2*pi*(2*(v/(n-1))-1)) for u in range(n)] for v in range(n))))"
   ]
  },
  {
   "cell_type": "code",
   "execution_count": 137,
   "id": "38f074a6-2be9-46fe-9aae-9bffb67b6795",
   "metadata": {},
   "outputs": [
    {
     "name": "stdout",
     "output_type": "stream",
     "text": [
      "f_convert_a('3.1415926535')->3.1415926535\n",
      "f_convert_a('wirring')->wirring\n",
      "f_convert_a(6,8,10)->(6, 8, 10)\n",
      "f_convert_b('3.1415926535')->6.0\n",
      "f_convert_b('wirring')->6.0\n",
      "f_convert_b(6,8,10)->6.0\n",
      "f_convert_c('3.1415926535')->3.1415926535\n",
      "f_convert_c('wirring')->wirring\n",
      "(6, 8, 10) TypeError\n",
      "f_convert_c(6,8,10)->None\n",
      "f_convert_d('3.1415926535')->3.1415926535\n",
      "wirring ValueError or TypeError\n",
      "f_convert_d('wirring')->None\n",
      "(6, 8, 10) ValueError or TypeError\n",
      "f_convert_d(6,8,10)->None\n",
      "f_convert_e('3.1415926535')->3.1415926535\n",
      "wirring could not convert string to float: 'wirring'\n",
      "f_convert_e('wirring')->None\n",
      "(6, 8, 10) float() argument must be a string or a number, not 'tuple'\n",
      "f_convert_e(6,8,10)->None\n",
      "f_convert_f('3.1415926535')->3.1415926535\n",
      "f_convert_f('wirring')->None\n",
      "f_convert_f(6,8,10)->None\n",
      "Unable to open ./data/tryException.txt :[Errno 2] No such file or directory: './data/tryException.txt'\n",
      "\n",
      "tryException_content->None\n",
      "Unable to open ./data/tryException_.txt :[Errno 2] No such file or directory: './data/tryException_.txt'\n",
      "\n",
      "Unable to open ./data/tryException.txt :[Errno 2] No such file or directory: './data/tryException.txt'\n",
      "\n",
      "finish!\n"
     ]
    }
   ],
   "source": [
    "def f_convert_a(x):\n",
    "    try:\n",
    "        return float(x)\n",
    "    except:\n",
    "        return x\n",
    "print(\"f_convert_a('3.1415926535')->{}\".format(f_convert_a('3.1415926535')))    \n",
    "print(\"f_convert_a('wirring')->{}\".format(f_convert_a('wirring')))  \n",
    "print(\"f_convert_a(6,8,10)->{}\".format(f_convert_a((6,8,10))))  \n",
    "def f_convert_b(x):\n",
    "    try:\n",
    "        return float(6)\n",
    "    except ValueError:\n",
    "        return 6\n",
    "print(\"f_convert_b('3.1415926535')->{}\".format(f_convert_b('3.1415926535')))    \n",
    "print(\"f_convert_b('wirring')->{}\".format(f_convert_b('wirring')))  \n",
    "print(\"f_convert_b(6,8,10)->{}\".format(f_convert_b((6,8,10))))  \n",
    "def f_convert_c(x):\n",
    "    try:\n",
    "        return float(x)\n",
    "    except ValueError:\n",
    "        return x\n",
    "    except TypeError:\n",
    "        print(x,'TypeError')\n",
    "print(\"f_convert_c('3.1415926535')->{}\".format(f_convert_c('3.1415926535')))    \n",
    "print(\"f_convert_c('wirring')->{}\".format(f_convert_c('wirring')))  \n",
    "print(\"f_convert_c(6,8,10)->{}\".format(f_convert_c((6,8,10))))    \n",
    "def f_convert_d(x):\n",
    "    try:\n",
    "        return float(x)\n",
    "    except (ValueError,TypeError):\n",
    "        print(x,'ValueError or TypeError')\n",
    "print(\"f_convert_d('3.1415926535')->{}\".format(f_convert_d('3.1415926535')))    \n",
    "print(\"f_convert_d('wirring')->{}\".format(f_convert_d('wirring')))  \n",
    "print(\"f_convert_d(6,8,10)->{}\".format(f_convert_d((6,8,10)))) \n",
    "def f_convert_e(x):\n",
    "    try:\n",
    "        return float(x)\n",
    "    except (ValueError,TypeError) as e:\n",
    "        return print(x,e)\n",
    "print(\"f_convert_e('3.1415926535')->{}\".format(f_convert_e('3.1415926535')))    \n",
    "print(\"f_convert_e('wirring')->{}\".format(f_convert_e('wirring')))  \n",
    "print(\"f_convert_e(6,8,10)->{}\".format(f_convert_e((6,8,10))))    \n",
    "def f_convert_f(x):\n",
    "    try:\n",
    "        return float(x)\n",
    "    except (ValueError,TypeError) as e:\n",
    "        pass\n",
    "print(\"f_convert_f('3.1415926535')->{}\".format(f_convert_f('3.1415926535')))    \n",
    "print(\"f_convert_f('wirring')->{}\".format(f_convert_f('wirring')))  \n",
    "print(\"f_convert_f(6,8,10)->{}\".format(f_convert_f((6,8,10))))     \n",
    "def f_open_a(fp):\n",
    "    try:\n",
    "        f=open(fp,'r')\n",
    "    except IOError as e:\n",
    "        print('Unable to open',fp,':%s\\n' %e)\n",
    "    else:\n",
    "        data=f.read()\n",
    "        f.close\n",
    "        return data\n",
    "tryException_content=f_open_a(\"./data/tryException.txt\")   \n",
    "print(\"tryException_content->{}\".format(tryException_content))\n",
    "f_open_a(\"./data/tryException_.txt\")\n",
    "def f_open_b(fp):\n",
    "    try:\n",
    "        f=open(fp,'r')\n",
    "    except IOError as e:\n",
    "        print('Unable to open',fp,':%s\\n' %e)\n",
    "    else:\n",
    "        data=f.read()\n",
    "        f.close()\n",
    "        return data\n",
    "    finally:\n",
    "        print('finish!')\n",
    "f_open_b(\"./data/tryException.txt\")  "
   ]
  },
  {
   "cell_type": "code",
   "execution_count": 143,
   "id": "634003f9-8da1-4c3c-881f-db8534f7e243",
   "metadata": {},
   "outputs": [
    {
     "name": "stdout",
     "output_type": "stream",
     "text": [
      "__________________________________________________\n"
     ]
    }
   ],
   "source": [
    "x=20\n",
    "assert x>0\n",
    "print(\"_\"*50)"
   ]
  },
  {
   "cell_type": "code",
   "execution_count": 144,
   "id": "50290f40-df98-4ee2-8f21-5398b9876bb5",
   "metadata": {},
   "outputs": [
    {
     "ename": "AssertionError",
     "evalue": "",
     "output_type": "error",
     "traceback": [
      "\u001b[1;31m---------------------------------------------------------------------------\u001b[0m",
      "\u001b[1;31mAssertionError\u001b[0m                            Traceback (most recent call last)",
      "\u001b[1;32m<ipython-input-144-25343560e12c>\u001b[0m in \u001b[0;36m<module>\u001b[1;34m\u001b[0m\n\u001b[0;32m      1\u001b[0m \u001b[0mx\u001b[0m\u001b[1;33m=\u001b[0m\u001b[1;36m20\u001b[0m\u001b[1;33m\u001b[0m\u001b[1;33m\u001b[0m\u001b[0m\n\u001b[1;32m----> 2\u001b[1;33m \u001b[1;32massert\u001b[0m \u001b[0mx\u001b[0m\u001b[1;33m<\u001b[0m\u001b[1;36m0\u001b[0m\u001b[1;33m\u001b[0m\u001b[1;33m\u001b[0m\u001b[0m\n\u001b[0m",
      "\u001b[1;31mAssertionError\u001b[0m: "
     ]
    }
   ],
   "source": [
    "x=20\n",
    "assert x<0"
   ]
  },
  {
   "cell_type": "code",
   "execution_count": null,
   "id": "bf7cd7c1-382f-48cf-8462-91ba07175b75",
   "metadata": {},
   "outputs": [],
   "source": []
  }
 ],
 "metadata": {
  "kernelspec": {
   "display_name": "Python 3",
   "language": "python",
   "name": "python3"
  },
  "language_info": {
   "codemirror_mode": {
    "name": "ipython",
    "version": 3
   },
   "file_extension": ".py",
   "mimetype": "text/x-python",
   "name": "python",
   "nbconvert_exporter": "python",
   "pygments_lexer": "ipython3",
   "version": "3.8.8"
  }
 },
 "nbformat": 4,
 "nbformat_minor": 5
}
